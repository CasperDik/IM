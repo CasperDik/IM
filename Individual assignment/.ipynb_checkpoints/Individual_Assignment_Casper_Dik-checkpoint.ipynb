{
 "cells": [
  {
   "cell_type": "markdown",
   "id": "aac1730a-3779-481e-912b-9b1cb8c6e456",
   "metadata": {},
   "source": [
    "Indivudual Assignment Inventory Management. Made by Casper Dik (s3497887)"
   ]
  },
  {
   "cell_type": "code",
   "execution_count": 1,
   "id": "48643388-0589-456f-9a44-4a6ddf2dbedd",
   "metadata": {},
   "outputs": [],
   "source": [
    "import numpy as np\n",
    "import math\n",
    "import pandas as pd\n",
    "import matplotlib.pyplot as plt\n",
    "from scipy.stats import poisson, randint"
   ]
  },
  {
   "cell_type": "markdown",
   "id": "87ef4f69-0291-417e-9d27-3f80489b43e3",
   "metadata": {
    "tags": []
   },
   "source": [
    "## EOQ"
   ]
  },
  {
   "cell_type": "markdown",
   "id": "ec4e6d20-ff0b-4f7d-ad6c-67cfd2e2adf9",
   "metadata": {},
   "source": [
    "Define the parameters"
   ]
  },
  {
   "cell_type": "code",
   "execution_count": 2,
   "id": "c5b8ee8c-da90-4037-a134-9ad495180770",
   "metadata": {},
   "outputs": [],
   "source": [
    "D = 60\n",
    "c = 2.5\n",
    "K = 5\n",
    "h = 1.5"
   ]
  },
  {
   "cell_type": "markdown",
   "id": "3fb154a9-9907-4d81-89c7-d90a5165b33f",
   "metadata": {},
   "source": [
    "Define the EOQ function"
   ]
  },
  {
   "cell_type": "code",
   "execution_count": 3,
   "id": "4245e8b6-a7fa-4447-90a6-39b52f5dc5d3",
   "metadata": {},
   "outputs": [],
   "source": [
    "def EOQ(D,K,h):\n",
    "    return math.sqrt((2*K*D)/h)"
   ]
  },
  {
   "cell_type": "markdown",
   "id": "532b0082-7d90-4455-bb72-513c5226d249",
   "metadata": {},
   "source": [
    "Run the EOQ function with the previously define parameters"
   ]
  },
  {
   "cell_type": "code",
   "execution_count": 4,
   "id": "384db72d-82d9-42f0-a680-f7da6b210b6c",
   "metadata": {},
   "outputs": [
    {
     "data": {
      "text/plain": [
       "20.0"
      ]
     },
     "execution_count": 4,
     "metadata": {},
     "output_type": "execute_result"
    }
   ],
   "source": [
    "EOQ(D,K,h)"
   ]
  },
  {
   "cell_type": "markdown",
   "id": "c16a2e8c-b896-46b0-b855-808fe498501d",
   "metadata": {},
   "source": [
    "Define the cost functions "
   ]
  },
  {
   "cell_type": "code",
   "execution_count": 5,
   "id": "cec54913-e4d9-433d-9b85-5a72bfeba0dd",
   "metadata": {},
   "outputs": [],
   "source": [
    "def C1(h,Q):\n",
    "    # average holding cost\n",
    "    return (h*Q)/2\n",
    "\n",
    "def C2(K,D,Q):\n",
    "    # average ordering cost\n",
    "    return (K*D)/Q\n",
    "\n",
    "def C3(c,D):\n",
    "    # procurement cost\n",
    "    return c*D\n",
    "\n",
    "def cost(c, D, K, Q, h):\n",
    "    return C1(h,Q) + C2(K,D,Q) + C3(c,D)"
   ]
  },
  {
   "cell_type": "markdown",
   "id": "fc9aa309-1c9f-4990-96df-74c9c98490cd",
   "metadata": {},
   "source": [
    "Calculate the costs"
   ]
  },
  {
   "cell_type": "code",
   "execution_count": 6,
   "id": "1d5f4d95-1bbb-45c6-b22d-d19c2357703a",
   "metadata": {},
   "outputs": [
    {
     "data": {
      "text/plain": [
       "180.0"
      ]
     },
     "execution_count": 6,
     "metadata": {},
     "output_type": "execute_result"
    }
   ],
   "source": [
    "Q = EOQ(D,K,h)\n",
    "cost(c, D, K, Q, h)"
   ]
  },
  {
   "cell_type": "markdown",
   "id": "111ad6fa-c14c-4169-9b95-163f3c0f4745",
   "metadata": {},
   "source": [
    "Create an empty dataframe"
   ]
  },
  {
   "cell_type": "code",
   "execution_count": 7,
   "id": "ea80c81c-eb79-430b-a2d5-aa63ea4c9e33",
   "metadata": {},
   "outputs": [],
   "source": [
    "df = pd.DataFrame(index=np.linspace(5,50,10, dtype=int), columns=[\"C1(Q)\", \"C2(Q)\", \"C3(Q)\", \"C(Q)\"])"
   ]
  },
  {
   "cell_type": "markdown",
   "id": "1f7bae21-e94a-4d16-b7ea-77261ba60b56",
   "metadata": {},
   "source": [
    "Fill the datframe using the cost functions "
   ]
  },
  {
   "cell_type": "code",
   "execution_count": 8,
   "id": "59ca8233-df3d-444a-a1a9-70d3353bbf3c",
   "metadata": {},
   "outputs": [],
   "source": [
    "df[\"C1(Q)\"] = C1(h, df.index.values)\n",
    "df[\"C2(Q)\"] = C2(K,D,df.index.values)\n",
    "df[\"C3(Q)\"] = C3(c,D)\n",
    "df[\"C(Q)\"] = cost(c, D, K, df.index.values, h)"
   ]
  },
  {
   "cell_type": "markdown",
   "id": "d0664eec-3dec-4780-acad-feffc3c1d76a",
   "metadata": {},
   "source": [
    "From the table below, we can verify that the calculated Q* from the EOQ function indeed corresponds to the lowest cost"
   ]
  },
  {
   "cell_type": "code",
   "execution_count": 9,
   "id": "d986d8dc-b149-4598-8912-7940423e5d37",
   "metadata": {},
   "outputs": [
    {
     "data": {
      "text/html": [
       "<div>\n",
       "<style scoped>\n",
       "    .dataframe tbody tr th:only-of-type {\n",
       "        vertical-align: middle;\n",
       "    }\n",
       "\n",
       "    .dataframe tbody tr th {\n",
       "        vertical-align: top;\n",
       "    }\n",
       "\n",
       "    .dataframe thead th {\n",
       "        text-align: right;\n",
       "    }\n",
       "</style>\n",
       "<table border=\"1\" class=\"dataframe\">\n",
       "  <thead>\n",
       "    <tr style=\"text-align: right;\">\n",
       "      <th></th>\n",
       "      <th>C1(Q)</th>\n",
       "      <th>C2(Q)</th>\n",
       "      <th>C3(Q)</th>\n",
       "      <th>C(Q)</th>\n",
       "    </tr>\n",
       "  </thead>\n",
       "  <tbody>\n",
       "    <tr>\n",
       "      <th>5</th>\n",
       "      <td>3.75</td>\n",
       "      <td>60.000000</td>\n",
       "      <td>150.0</td>\n",
       "      <td>213.750000</td>\n",
       "    </tr>\n",
       "    <tr>\n",
       "      <th>10</th>\n",
       "      <td>7.50</td>\n",
       "      <td>30.000000</td>\n",
       "      <td>150.0</td>\n",
       "      <td>187.500000</td>\n",
       "    </tr>\n",
       "    <tr>\n",
       "      <th>15</th>\n",
       "      <td>11.25</td>\n",
       "      <td>20.000000</td>\n",
       "      <td>150.0</td>\n",
       "      <td>181.250000</td>\n",
       "    </tr>\n",
       "    <tr>\n",
       "      <th>20</th>\n",
       "      <td>15.00</td>\n",
       "      <td>15.000000</td>\n",
       "      <td>150.0</td>\n",
       "      <td>180.000000</td>\n",
       "    </tr>\n",
       "    <tr>\n",
       "      <th>25</th>\n",
       "      <td>18.75</td>\n",
       "      <td>12.000000</td>\n",
       "      <td>150.0</td>\n",
       "      <td>180.750000</td>\n",
       "    </tr>\n",
       "    <tr>\n",
       "      <th>30</th>\n",
       "      <td>22.50</td>\n",
       "      <td>10.000000</td>\n",
       "      <td>150.0</td>\n",
       "      <td>182.500000</td>\n",
       "    </tr>\n",
       "    <tr>\n",
       "      <th>35</th>\n",
       "      <td>26.25</td>\n",
       "      <td>8.571429</td>\n",
       "      <td>150.0</td>\n",
       "      <td>184.821429</td>\n",
       "    </tr>\n",
       "    <tr>\n",
       "      <th>40</th>\n",
       "      <td>30.00</td>\n",
       "      <td>7.500000</td>\n",
       "      <td>150.0</td>\n",
       "      <td>187.500000</td>\n",
       "    </tr>\n",
       "    <tr>\n",
       "      <th>45</th>\n",
       "      <td>33.75</td>\n",
       "      <td>6.666667</td>\n",
       "      <td>150.0</td>\n",
       "      <td>190.416667</td>\n",
       "    </tr>\n",
       "    <tr>\n",
       "      <th>50</th>\n",
       "      <td>37.50</td>\n",
       "      <td>6.000000</td>\n",
       "      <td>150.0</td>\n",
       "      <td>193.500000</td>\n",
       "    </tr>\n",
       "  </tbody>\n",
       "</table>\n",
       "</div>"
      ],
      "text/plain": [
       "    C1(Q)      C2(Q)  C3(Q)        C(Q)\n",
       "5    3.75  60.000000  150.0  213.750000\n",
       "10   7.50  30.000000  150.0  187.500000\n",
       "15  11.25  20.000000  150.0  181.250000\n",
       "20  15.00  15.000000  150.0  180.000000\n",
       "25  18.75  12.000000  150.0  180.750000\n",
       "30  22.50  10.000000  150.0  182.500000\n",
       "35  26.25   8.571429  150.0  184.821429\n",
       "40  30.00   7.500000  150.0  187.500000\n",
       "45  33.75   6.666667  150.0  190.416667\n",
       "50  37.50   6.000000  150.0  193.500000"
      ]
     },
     "execution_count": 9,
     "metadata": {},
     "output_type": "execute_result"
    }
   ],
   "source": [
    "df"
   ]
  },
  {
   "cell_type": "markdown",
   "id": "ac766c09-91bf-4de2-b041-8fd777c231f3",
   "metadata": {},
   "source": [
    "Plot the results"
   ]
  },
  {
   "cell_type": "code",
   "execution_count": 10,
   "id": "fcfae448-cff1-4db6-8fc1-f16d1771bd8d",
   "metadata": {},
   "outputs": [
    {
     "data": {
      "text/plain": [
       "<matplotlib.legend.Legend at 0x13dfbdf17f0>"
      ]
     },
     "execution_count": 10,
     "metadata": {},
     "output_type": "execute_result"
    },
    {
     "data": {
      "image/png": "[encoded data removed]",
      "text/plain": [
       "<Figure size 432x288 with 1 Axes>"
      ]
     },
     "metadata": {
      "needs_background": "light"
     },
     "output_type": "display_data"
    }
   ],
   "source": [
    "plt.plot(df.index.values, df[\"C(Q)\"], label=\"C(Q)\")\n",
    "plt.xlabel(\"Q\")\n",
    "plt.ylabel(\"C(Q)\")\n",
    "plt.legend()"
   ]
  },
  {
   "cell_type": "code",
   "execution_count": 11,
   "id": "2c12dd40-792b-4385-99f7-49d5bed84122",
   "metadata": {},
   "outputs": [
    {
     "data": {
      "text/plain": [
       "<matplotlib.legend.Legend at 0x13dfc6390d0>"
      ]
     },
     "execution_count": 11,
     "metadata": {},
     "output_type": "execute_result"
    },
    {
     "data": {
      "image/png": "[encoded data removed]",
      "text/plain": [
       "<Figure size 432x288 with 1 Axes>"
      ]
     },
     "metadata": {
      "needs_background": "light"
     },
     "output_type": "display_data"
    }
   ],
   "source": [
    "plt.plot(df.index.values, df[\"C1(Q)\"], label=\"C1(Q)\")\n",
    "plt.plot(df.index.values, df[\"C2(Q)\"], label=\"C2(Q)\")\n",
    "plt.plot(df.index.values, df[\"C3(Q)\"], label=\"C3(Q)\")\n",
    "plt.xlabel(\"Q\")\n",
    "plt.ylabel(\"C(Q)\")\n",
    "plt.legend()"
   ]
  },
  {
   "cell_type": "markdown",
   "id": "3d03ccc5-f414-4a58-a11f-12612b1d43d0",
   "metadata": {},
   "source": [
    "The average holding cost(C1(Q)) linearly increases as the order quantity Q increases, whereas, the average ordering cost(C2(Q)) decreases with the order quantity. The procurement cost are constant as they do not depend on Q. The overal cost first decreases with order quantity, implying that the decrease in average ordering cost outweights the increase in average holding cost untill Q*. After Q* the total start to increase as now the increase in holding cost outweights the decrease in ordering cost."
   ]
  },
  {
   "cell_type": "markdown",
   "id": "99a5e6e2-3f5f-4955-8599-cbc4e5dc2b26",
   "metadata": {},
   "source": [
    "Convert parameters to monthly and recalculate the EOQ"
   ]
  },
  {
   "cell_type": "code",
   "execution_count": 12,
   "id": "a45f3f25-baf9-4d5e-a784-b2408e189133",
   "metadata": {},
   "outputs": [
    {
     "data": {
      "text/plain": [
       "20.0"
      ]
     },
     "execution_count": 12,
     "metadata": {},
     "output_type": "execute_result"
    }
   ],
   "source": [
    "D = 60/12\n",
    "h = 1.5/12\n",
    "EOQ(D,K,h)"
   ]
  },
  {
   "cell_type": "markdown",
   "id": "0f8e93bf-7172-4110-b134-308ef88ac7b7",
   "metadata": {},
   "source": [
    "Q* is the same with monthly parameters which is strange since the unit of time has changed."
   ]
  },
  {
   "cell_type": "markdown",
   "id": "8d4a9506-0b9c-4e41-9e81-a60012fb9a49",
   "metadata": {},
   "source": [
    "Create a set of zeros for q, D, I"
   ]
  },
  {
   "cell_type": "code",
   "execution_count": 13,
   "id": "5ff6b999-384b-43f0-9def-30d8e230629d",
   "metadata": {},
   "outputs": [],
   "source": [
    "q = np.zeros(13)\n",
    "D = np.zeros(13)\n",
    "I = np.zeros(13)"
   ]
  },
  {
   "cell_type": "markdown",
   "id": "cfe0e039-52a8-43ac-94a1-2c33c9ab9abe",
   "metadata": {},
   "source": [
    "fill in the demand"
   ]
  },
  {
   "cell_type": "code",
   "execution_count": 14,
   "id": "d4328b7d-d962-4001-8010-e4530c128ea4",
   "metadata": {},
   "outputs": [],
   "source": [
    "D[1:] = 60/12"
   ]
  },
  {
   "cell_type": "markdown",
   "id": "130f77b2-698b-4286-8b72-dbaa4177a154",
   "metadata": {},
   "source": [
    "Define a function that calculates the quantity to order when demand in next period can not be met"
   ]
  },
  {
   "cell_type": "code",
   "execution_count": 15,
   "id": "87fb4fe9-7005-4d70-ad40-7185407c4f3a",
   "metadata": {},
   "outputs": [],
   "source": [
    "def quantity_to_order(I_prev, D_n, K, h):\n",
    "    if I_prev < D_n:\n",
    "        q = EOQ(D_n,K,h)\n",
    "    else:\n",
    "        q = 0\n",
    "    return q"
   ]
  },
  {
   "cell_type": "markdown",
   "id": "45c0f1f0-ef67-4f31-9731-1698cbdc5fe7",
   "metadata": {},
   "source": [
    "Define a function that calculates the inventory in period n based on inventory in n-1, demand in n and quantity order in n"
   ]
  },
  {
   "cell_type": "code",
   "execution_count": 16,
   "id": "84ce16b9-5491-4376-8da1-c971add1f5f1",
   "metadata": {},
   "outputs": [],
   "source": [
    "def inventory_n(I_prev, q_n, D_n):\n",
    "    return I_prev + q_n - D_n"
   ]
  },
  {
   "cell_type": "markdown",
   "id": "6f3726c4-4340-42dc-8155-1af8f087bd34",
   "metadata": {},
   "source": [
    "Create an empty dataframe"
   ]
  },
  {
   "cell_type": "code",
   "execution_count": 17,
   "id": "b11ac5d9-a874-4fe7-bde6-3dfd38cd4c42",
   "metadata": {},
   "outputs": [],
   "source": [
    "df1 = pd.DataFrame(index=np.linspace(0,12,13, dtype=int), columns=[\"q\", \"D\", \"I\"])"
   ]
  },
  {
   "cell_type": "markdown",
   "id": "751fa0df-f6d2-4b79-9de9-20031e46719e",
   "metadata": {},
   "source": [
    "Fill the dataframe using the functions quantity_to_order and inventory_n"
   ]
  },
  {
   "cell_type": "code",
   "execution_count": 18,
   "id": "a210d06f-31d1-424d-9f28-d54ad8444efb",
   "metadata": {},
   "outputs": [
    {
     "name": "stderr",
     "output_type": "stream",
     "text": [
      "C:\\Users\\CASPER~1\\AppData\\Local\\Temp/ipykernel_13948/2249452481.py:5: SettingWithCopyWarning: \n",
      "A value is trying to be set on a copy of a slice from a DataFrame\n",
      "\n",
      "See the caveats in the documentation: https://pandas.pydata.org/pandas-docs/stable/user_guide/indexing.html#returning-a-view-versus-a-copy\n",
      "  df1[\"q\"][i] = quantity_to_order(df1[\"I\"][i-1], df1[\"D\"][i], K, h)\n",
      "C:\\Users\\Casper Dik\\anaconda3\\lib\\site-packages\\pandas\\core\\indexing.py:1732: SettingWithCopyWarning: \n",
      "A value is trying to be set on a copy of a slice from a DataFrame\n",
      "\n",
      "See the caveats in the documentation: https://pandas.pydata.org/pandas-docs/stable/user_guide/indexing.html#returning-a-view-versus-a-copy\n",
      "  self._setitem_single_block(indexer, value, name)\n",
      "C:\\Users\\CASPER~1\\AppData\\Local\\Temp/ipykernel_13948/2249452481.py:6: SettingWithCopyWarning: \n",
      "A value is trying to be set on a copy of a slice from a DataFrame\n",
      "\n",
      "See the caveats in the documentation: https://pandas.pydata.org/pandas-docs/stable/user_guide/indexing.html#returning-a-view-versus-a-copy\n",
      "  df1[\"I\"][i] = inventory_n(df1[\"I\"][i-1], df1[\"q\"][i], df1[\"D\"][i])\n"
     ]
    }
   ],
   "source": [
    "df1[\"I\"][0] = 0 \n",
    "df1[\"q\"][0] = 0 \n",
    "df1[\"D\"] = D\n",
    "for i in np.linspace(1,12,12):\n",
    "    df1[\"q\"][i] = quantity_to_order(df1[\"I\"][i-1], df1[\"D\"][i], K, h)\n",
    "    df1[\"I\"][i] = inventory_n(df1[\"I\"][i-1], df1[\"q\"][i], df1[\"D\"][i])"
   ]
  },
  {
   "cell_type": "markdown",
   "id": "06057094-3f09-4e69-ae28-fab5a8d19e2a",
   "metadata": {},
   "source": [
    "show result:"
   ]
  },
  {
   "cell_type": "code",
   "execution_count": 19,
   "id": "a99a1b4f-86b8-43b4-ae0d-56856df24302",
   "metadata": {},
   "outputs": [
    {
     "data": {
      "text/html": [
       "<div>\n",
       "<style scoped>\n",
       "    .dataframe tbody tr th:only-of-type {\n",
       "        vertical-align: middle;\n",
       "    }\n",
       "\n",
       "    .dataframe tbody tr th {\n",
       "        vertical-align: top;\n",
       "    }\n",
       "\n",
       "    .dataframe thead th {\n",
       "        text-align: right;\n",
       "    }\n",
       "</style>\n",
       "<table border=\"1\" class=\"dataframe\">\n",
       "  <thead>\n",
       "    <tr style=\"text-align: right;\">\n",
       "      <th></th>\n",
       "      <th>q</th>\n",
       "      <th>D</th>\n",
       "      <th>I</th>\n",
       "    </tr>\n",
       "  </thead>\n",
       "  <tbody>\n",
       "    <tr>\n",
       "      <th>0</th>\n",
       "      <td>0</td>\n",
       "      <td>0.0</td>\n",
       "      <td>0</td>\n",
       "    </tr>\n",
       "    <tr>\n",
       "      <th>1</th>\n",
       "      <td>20.0</td>\n",
       "      <td>5.0</td>\n",
       "      <td>15.0</td>\n",
       "    </tr>\n",
       "    <tr>\n",
       "      <th>2</th>\n",
       "      <td>0</td>\n",
       "      <td>5.0</td>\n",
       "      <td>10.0</td>\n",
       "    </tr>\n",
       "    <tr>\n",
       "      <th>3</th>\n",
       "      <td>0</td>\n",
       "      <td>5.0</td>\n",
       "      <td>5.0</td>\n",
       "    </tr>\n",
       "    <tr>\n",
       "      <th>4</th>\n",
       "      <td>0</td>\n",
       "      <td>5.0</td>\n",
       "      <td>0.0</td>\n",
       "    </tr>\n",
       "    <tr>\n",
       "      <th>5</th>\n",
       "      <td>20.0</td>\n",
       "      <td>5.0</td>\n",
       "      <td>15.0</td>\n",
       "    </tr>\n",
       "    <tr>\n",
       "      <th>6</th>\n",
       "      <td>0</td>\n",
       "      <td>5.0</td>\n",
       "      <td>10.0</td>\n",
       "    </tr>\n",
       "    <tr>\n",
       "      <th>7</th>\n",
       "      <td>0</td>\n",
       "      <td>5.0</td>\n",
       "      <td>5.0</td>\n",
       "    </tr>\n",
       "    <tr>\n",
       "      <th>8</th>\n",
       "      <td>0</td>\n",
       "      <td>5.0</td>\n",
       "      <td>0.0</td>\n",
       "    </tr>\n",
       "    <tr>\n",
       "      <th>9</th>\n",
       "      <td>20.0</td>\n",
       "      <td>5.0</td>\n",
       "      <td>15.0</td>\n",
       "    </tr>\n",
       "    <tr>\n",
       "      <th>10</th>\n",
       "      <td>0</td>\n",
       "      <td>5.0</td>\n",
       "      <td>10.0</td>\n",
       "    </tr>\n",
       "    <tr>\n",
       "      <th>11</th>\n",
       "      <td>0</td>\n",
       "      <td>5.0</td>\n",
       "      <td>5.0</td>\n",
       "    </tr>\n",
       "    <tr>\n",
       "      <th>12</th>\n",
       "      <td>0</td>\n",
       "      <td>5.0</td>\n",
       "      <td>0.0</td>\n",
       "    </tr>\n",
       "  </tbody>\n",
       "</table>\n",
       "</div>"
      ],
      "text/plain": [
       "       q    D     I\n",
       "0      0  0.0     0\n",
       "1   20.0  5.0  15.0\n",
       "2      0  5.0  10.0\n",
       "3      0  5.0   5.0\n",
       "4      0  5.0   0.0\n",
       "5   20.0  5.0  15.0\n",
       "6      0  5.0  10.0\n",
       "7      0  5.0   5.0\n",
       "8      0  5.0   0.0\n",
       "9   20.0  5.0  15.0\n",
       "10     0  5.0  10.0\n",
       "11     0  5.0   5.0\n",
       "12     0  5.0   0.0"
      ]
     },
     "execution_count": 19,
     "metadata": {},
     "output_type": "execute_result"
    }
   ],
   "source": [
    "df1"
   ]
  },
  {
   "cell_type": "markdown",
   "id": "7a8292f6-2a86-43ad-b574-fec1d1d09287",
   "metadata": {},
   "source": [
    "As long as Q* is greater than demand of next period, no stockouts can happen."
   ]
  },
  {
   "cell_type": "markdown",
   "id": "c4151848-e5cf-4b92-98c9-112d99a68de9",
   "metadata": {},
   "source": [
    "Plot the results"
   ]
  },
  {
   "cell_type": "code",
   "execution_count": 20,
   "id": "7445f80d-d0a9-4e8f-9668-39b4f3843d0e",
   "metadata": {},
   "outputs": [
    {
     "data": {
      "text/plain": [
       "Text(0, 0.5, 'Inventory level per month')"
      ]
     },
     "execution_count": 20,
     "metadata": {},
     "output_type": "execute_result"
    },
    {
     "data": {
      "image/png": "[encoded data removed]",
      "text/plain": [
       "<Figure size 432x288 with 1 Axes>"
      ]
     },
     "metadata": {
      "needs_background": "light"
     },
     "output_type": "display_data"
    }
   ],
   "source": [
    "plt.bar(df1.index.values, df1[\"I\"])\n",
    "plt.xlabel(\"Month\")\n",
    "plt.ylabel(\"Inventory level per month\")"
   ]
  },
  {
   "cell_type": "markdown",
   "id": "288ebb16-17fe-46c4-b63a-8bf431047d32",
   "metadata": {},
   "source": [
    "Inventory level behaves as expected. It decreases over time, untill new inventory is bought."
   ]
  },
  {
   "cell_type": "markdown",
   "id": "80398e2a-b73f-4542-b931-49a7d5832c3f",
   "metadata": {},
   "source": [
    "Define the monthly cost function and calculate the cost"
   ]
  },
  {
   "cell_type": "code",
   "execution_count": 21,
   "id": "a53081eb-6cfb-4acc-8e52-60a6bcd015d3",
   "metadata": {},
   "outputs": [
    {
     "data": {
      "text/plain": [
       "176.25"
      ]
     },
     "execution_count": 21,
     "metadata": {},
     "output_type": "execute_result"
    }
   ],
   "source": [
    "def C1_months(h, I):\n",
    "    return I.sum() * h\n",
    "\n",
    "def C2_months(K, q):\n",
    "    return K * q[q>0].count()\n",
    "\n",
    "def C3_months(c, q):\n",
    "    return c * q.sum()\n",
    "\n",
    "def C_months(h, I, K, q, c):\n",
    "    return C1_months(h, I) + C2_months(K, q) + C3_months(c, q)\n",
    "\n",
    "C_months(h, df1[\"I\"], K, df1[\"q\"], c)"
   ]
  },
  {
   "cell_type": "markdown",
   "id": "4680d6bd-e921-4159-82e6-30e9b8ccb2e9",
   "metadata": {},
   "source": [
    "The total cost here is lower than with step 5. The difference comes from the holding cost, which can now be more accurately be calculated. The ordering and procurement costs are the same."
   ]
  },
  {
   "cell_type": "markdown",
   "id": "5f51094c-8e10-4304-a894-d66e312bc2ca",
   "metadata": {},
   "source": [
    "## Distributions"
   ]
  },
  {
   "cell_type": "markdown",
   "id": "a4fcaaf4-ccfe-4ba9-8d5e-abc134787f9e",
   "metadata": {},
   "source": [
    "Define the domain and create an empty dataframe"
   ]
  },
  {
   "cell_type": "code",
   "execution_count": 22,
   "id": "a4f8bcd5-5486-4877-b35b-53838e624c38",
   "metadata": {},
   "outputs": [],
   "source": [
    "domain = np.linspace(1,6,6)\n",
    "df2 = pd.DataFrame(index=domain, columns=[\"f(x)\", \"F(x)\"])"
   ]
  },
  {
   "cell_type": "markdown",
   "id": "6b1013fc-8696-4c20-ac47-6fb8cd25c021",
   "metadata": {},
   "source": [
    "Find the f(x) and F(x) values for the domain"
   ]
  },
  {
   "cell_type": "code",
   "execution_count": 23,
   "id": "57572470-fc7e-4f6e-9fd6-35667fa072db",
   "metadata": {},
   "outputs": [],
   "source": [
    "f_x = {}\n",
    "F_x = {}\n",
    "\n",
    "cum = 0\n",
    "for x in domain:\n",
    "    f_x[x] = 1/6\n",
    "    cum += 1/6\n",
    "    F_x[x] = cum\n",
    "    \n",
    "df2[\"f(x)\"] = f_x.values()\n",
    "df2[\"F(x)\"] = F_x.values()"
   ]
  },
  {
   "cell_type": "code",
   "execution_count": 24,
   "id": "8b0150c0-c089-4259-a16d-de89a549e6e2",
   "metadata": {},
   "outputs": [
    {
     "data": {
      "text/html": [
       "<div>\n",
       "<style scoped>\n",
       "    .dataframe tbody tr th:only-of-type {\n",
       "        vertical-align: middle;\n",
       "    }\n",
       "\n",
       "    .dataframe tbody tr th {\n",
       "        vertical-align: top;\n",
       "    }\n",
       "\n",
       "    .dataframe thead th {\n",
       "        text-align: right;\n",
       "    }\n",
       "</style>\n",
       "<table border=\"1\" class=\"dataframe\">\n",
       "  <thead>\n",
       "    <tr style=\"text-align: right;\">\n",
       "      <th></th>\n",
       "      <th>f(x)</th>\n",
       "      <th>F(x)</th>\n",
       "    </tr>\n",
       "  </thead>\n",
       "  <tbody>\n",
       "    <tr>\n",
       "      <th>1.0</th>\n",
       "      <td>0.166667</td>\n",
       "      <td>0.166667</td>\n",
       "    </tr>\n",
       "    <tr>\n",
       "      <th>2.0</th>\n",
       "      <td>0.166667</td>\n",
       "      <td>0.333333</td>\n",
       "    </tr>\n",
       "    <tr>\n",
       "      <th>3.0</th>\n",
       "      <td>0.166667</td>\n",
       "      <td>0.500000</td>\n",
       "    </tr>\n",
       "    <tr>\n",
       "      <th>4.0</th>\n",
       "      <td>0.166667</td>\n",
       "      <td>0.666667</td>\n",
       "    </tr>\n",
       "    <tr>\n",
       "      <th>5.0</th>\n",
       "      <td>0.166667</td>\n",
       "      <td>0.833333</td>\n",
       "    </tr>\n",
       "    <tr>\n",
       "      <th>6.0</th>\n",
       "      <td>0.166667</td>\n",
       "      <td>1.000000</td>\n",
       "    </tr>\n",
       "  </tbody>\n",
       "</table>\n",
       "</div>"
      ],
      "text/plain": [
       "         f(x)      F(x)\n",
       "1.0  0.166667  0.166667\n",
       "2.0  0.166667  0.333333\n",
       "3.0  0.166667  0.500000\n",
       "4.0  0.166667  0.666667\n",
       "5.0  0.166667  0.833333\n",
       "6.0  0.166667  1.000000"
      ]
     },
     "execution_count": 24,
     "metadata": {},
     "output_type": "execute_result"
    }
   ],
   "source": [
    "df2"
   ]
  },
  {
   "cell_type": "markdown",
   "id": "459ffc85-27ea-4749-a04e-4a61e12edc1e",
   "metadata": {},
   "source": [
    "Plot the results on a bar graph"
   ]
  },
  {
   "cell_type": "code",
   "execution_count": 25,
   "id": "75533221-7786-4cf9-9c6e-5fb629774041",
   "metadata": {},
   "outputs": [
    {
     "data": {
      "text/plain": [
       "<matplotlib.legend.Legend at 0x13dfc78ac40>"
      ]
     },
     "execution_count": 25,
     "metadata": {},
     "output_type": "execute_result"
    },
    {
     "data": {
      "image/png": "[encoded data removed]",
      "text/plain": [
       "<Figure size 432x288 with 1 Axes>"
      ]
     },
     "metadata": {
      "needs_background": "light"
     },
     "output_type": "display_data"
    }
   ],
   "source": [
    "w = 0.4\n",
    "plt.bar(domain-w, df2[\"f(x)\"], width=w, label=\"f(x)\", align=\"center\")\n",
    "plt.bar(domain, df2[\"F(x)\"], width=w, label=\"F(x)\", align=\"center\")\n",
    "plt.xlabel(\"x\")\n",
    "plt.ylabel(\"probabilities\")\n",
    "plt.legend()"
   ]
  },
  {
   "cell_type": "markdown",
   "id": "aa4f18e2-abf8-4efb-93c6-898b70b17aa6",
   "metadata": {},
   "source": [
    "The probability distribution function is constant since the probability of rolling each number has the same probability for a fair dice. The cumulative distribution increases as expected since the probability of rolling x or lower increases with x."
   ]
  },
  {
   "cell_type": "markdown",
   "id": "bc4d3d30-a17a-4eb1-8b13-c735880c6903",
   "metadata": {},
   "source": [
    "Repeat the analysis but now for a dice with 21 sides"
   ]
  },
  {
   "cell_type": "code",
   "execution_count": 26,
   "id": "b5bcb724-08d3-4f94-9c1a-650f6a06abc0",
   "metadata": {},
   "outputs": [],
   "source": [
    "domain = np.linspace(0,20,21)\n",
    "df2 = pd.DataFrame(index=domain, columns=[\"f(x)\", \"F(x)\"])\n",
    "\n",
    "f_x = {}\n",
    "F_x = {}\n",
    "\n",
    "cum = 0\n",
    "for x in domain:\n",
    "    f_x[x] = 1/21\n",
    "    cum += 1/21\n",
    "    F_x[x] = cum\n",
    "    \n",
    "df2[\"f(x)\"] = f_x.values()\n",
    "df2[\"F(x)\"] = F_x.values()"
   ]
  },
  {
   "cell_type": "code",
   "execution_count": 27,
   "id": "d2e2e2fc-8be6-4534-a824-50611b141461",
   "metadata": {},
   "outputs": [
    {
     "data": {
      "text/plain": [
       "<matplotlib.legend.Legend at 0x13dfc806700>"
      ]
     },
     "execution_count": 27,
     "metadata": {},
     "output_type": "execute_result"
    },
    {
     "data": {
      "image/png": "[encoded data removed]",
      "text/plain": [
       "<Figure size 432x288 with 1 Axes>"
      ]
     },
     "metadata": {
      "needs_background": "light"
     },
     "output_type": "display_data"
    }
   ],
   "source": [
    "plt.plot(domain, df2[\"f(x)\"], label=\"f(x)\")\n",
    "plt.plot(domain, df2[\"F(x)\"], label=\"F(x)\")\n",
    "plt.xlabel(\"x\")\n",
    "plt.ylabel(\"probabilities\")\n",
    "plt.legend()"
   ]
  },
  {
   "cell_type": "markdown",
   "id": "6eda80d0-34b3-4b1f-b8cb-bde69b39fee7",
   "metadata": {},
   "source": [
    "Repeat the analysis but now not for a dice but with a poisson distribution with mean=10"
   ]
  },
  {
   "cell_type": "code",
   "execution_count": 28,
   "id": "0c37d957-bc61-431c-863b-1a054ba7889d",
   "metadata": {},
   "outputs": [],
   "source": [
    "domain = np.linspace(0,20,21)\n",
    "df2 = pd.DataFrame(index=domain, columns=[\"f(x)\", \"F(x)\"])\n",
    "\n",
    "f_x = {}\n",
    "F_x = {}\n",
    "\n",
    "cum = 0\n",
    "mu = 10\n",
    "for x in domain:\n",
    "    f_x[x] = poisson.pmf(x, 10)\n",
    "    cum += f_x[x]\n",
    "    F_x[x] = cum\n",
    "    \n",
    "df2[\"f(x)\"] = f_x.values()\n",
    "df2[\"F(x)\"] = F_x.values()"
   ]
  },
  {
   "cell_type": "code",
   "execution_count": 29,
   "id": "49c64556-f626-483d-abf1-593cae2d5688",
   "metadata": {},
   "outputs": [
    {
     "data": {
      "text/plain": [
       "<matplotlib.legend.Legend at 0x13dfc884be0>"
      ]
     },
     "execution_count": 29,
     "metadata": {},
     "output_type": "execute_result"
    },
    {
     "data": {
      "image/png": "[encoded data removed]",
      "text/plain": [
       "<Figure size 432x288 with 1 Axes>"
      ]
     },
     "metadata": {
      "needs_background": "light"
     },
     "output_type": "display_data"
    }
   ],
   "source": [
    "plt.plot(domain, df2[\"f(x)\"], label=\"f(x)\")\n",
    "plt.plot(domain, df2[\"F(x)\"], label=\"F(x)\")\n",
    "plt.xlabel(\"x\")\n",
    "plt.ylabel(\"probabilities\")\n",
    "plt.legend()"
   ]
  },
  {
   "cell_type": "markdown",
   "id": "2a1b2b57-2769-4f29-80da-ee9c89e47d52",
   "metadata": {},
   "source": [
    "The shape of the pdf and cdf are different because they are from different distributions. Previously, the pdf was constant since it was a dice but now it is from a poisson distribution with mu=10."
   ]
  },
  {
   "cell_type": "markdown",
   "id": "4cd0a537-c503-45c0-82b8-cbd28946e93e",
   "metadata": {},
   "source": [
    "## Expectations"
   ]
  },
  {
   "cell_type": "markdown",
   "id": "06754bb3-026b-4769-b176-78882513c93f",
   "metadata": {},
   "source": [
    "define the domain and f_x"
   ]
  },
  {
   "cell_type": "code",
   "execution_count": 30,
   "id": "2f63d0df-7874-4583-9329-82b92ea1758e",
   "metadata": {},
   "outputs": [],
   "source": [
    "domain = np.linspace(0,10,11)\n",
    "f_x = [0.02, 0.11, 0.14, 0.13, 0.04, 0.04, 0.03, 0.11, 0.07, 0.17, 0.14]"
   ]
  },
  {
   "cell_type": "markdown",
   "id": "1ee9d14e-1c53-4bbb-8442-24e9ff1e6c94",
   "metadata": {},
   "source": [
    "create a function that computes the expected value and takes input f_x and g_x"
   ]
  },
  {
   "cell_type": "code",
   "execution_count": 31,
   "id": "1d69fb00-3651-46fd-a499-5a8eaaae6505",
   "metadata": {},
   "outputs": [],
   "source": [
    "def expected_value(f_x, g_x):\n",
    "    return (g_x*f_x).sum()"
   ]
  },
  {
   "cell_type": "code",
   "execution_count": 32,
   "id": "74bcafcc-6b43-49bd-9853-52f6cfbc3d08",
   "metadata": {},
   "outputs": [
    {
     "data": {
      "text/plain": [
       "5.58"
      ]
     },
     "execution_count": 32,
     "metadata": {},
     "output_type": "execute_result"
    }
   ],
   "source": [
    "expected_value(f_x, domain)"
   ]
  },
  {
   "cell_type": "markdown",
   "id": "0608cec4-6f1e-4dd4-8c28-7f4729cbd2b8",
   "metadata": {},
   "source": [
    "change the g_x function and recalculate the expected value"
   ]
  },
  {
   "cell_type": "code",
   "execution_count": 33,
   "id": "a808852b-c8b9-4b2e-9170-0a091ef451a2",
   "metadata": {},
   "outputs": [
    {
     "data": {
      "text/plain": [
       "11.16"
      ]
     },
     "execution_count": 33,
     "metadata": {},
     "output_type": "execute_result"
    }
   ],
   "source": [
    "g_x = 2*domain\n",
    "expected_value(f_x, g_x)"
   ]
  },
  {
   "cell_type": "markdown",
   "id": "5e38c875-6263-497f-93ab-25749e352b7e",
   "metadata": {},
   "source": [
    "change the g_x function and recalculate the expected value"
   ]
  },
  {
   "cell_type": "code",
   "execution_count": 34,
   "id": "214ac0c3-3afe-43df-9c0d-013070156aec",
   "metadata": {},
   "outputs": [
    {
     "data": {
      "text/plain": [
       "0.5799999999999998"
      ]
     },
     "execution_count": 34,
     "metadata": {},
     "output_type": "execute_result"
    }
   ],
   "source": [
    "g_x = domain-5\n",
    "expected_value(f_x, g_x)"
   ]
  },
  {
   "cell_type": "markdown",
   "id": "1225f425-bf93-4587-b05d-2585db82d125",
   "metadata": {},
   "source": [
    "change the g_x function and recalculate the expected value"
   ]
  },
  {
   "cell_type": "code",
   "execution_count": 35,
   "id": "b2402ee9-dc9f-433a-b096-1f590b7f9749",
   "metadata": {},
   "outputs": [
    {
     "data": {
      "text/plain": [
       "16.16"
      ]
     },
     "execution_count": 35,
     "metadata": {},
     "output_type": "execute_result"
    }
   ],
   "source": [
    "g_x = 2*domain+5\n",
    "expected_value(f_x, g_x)"
   ]
  },
  {
   "cell_type": "markdown",
   "id": "d171625a-4cd7-4e7a-a304-2328220e9a2c",
   "metadata": {},
   "source": [
    "change the g_x function and recalculate the expected value"
   ]
  },
  {
   "cell_type": "code",
   "execution_count": 36,
   "id": "b558f8ef-894e-4fd1-8464-7658407dc633",
   "metadata": {},
   "outputs": [
    {
     "data": {
      "text/plain": [
       "42.2"
      ]
     },
     "execution_count": 36,
     "metadata": {},
     "output_type": "execute_result"
    }
   ],
   "source": [
    "g_x = domain**2\n",
    "expected_value(f_x, g_x)"
   ]
  },
  {
   "cell_type": "markdown",
   "id": "3f2c9c99-d16a-455b-97b1-4355a5214f14",
   "metadata": {},
   "source": [
    "change the g_x function and recalculate the expected value"
   ]
  },
  {
   "cell_type": "code",
   "execution_count": 37,
   "id": "a7c8d174-ba75-4685-b05c-8087d92cb425",
   "metadata": {},
   "outputs": [
    {
     "data": {
      "text/plain": [
       "1.8400000000000003"
      ]
     },
     "execution_count": 37,
     "metadata": {},
     "output_type": "execute_result"
    }
   ],
   "source": [
    "g_x = (domain-5).clip(min=0)\n",
    "expected_value(f_x, g_x)"
   ]
  },
  {
   "cell_type": "markdown",
   "id": "6ffdb0cc-e31a-461a-ac11-a094833e73c6",
   "metadata": {},
   "source": [
    "change the g_x function and recalculate the expected value"
   ]
  },
  {
   "cell_type": "code",
   "execution_count": 38,
   "id": "4af689df-baca-46d2-846b-29e1998566db",
   "metadata": {},
   "outputs": [
    {
     "data": {
      "text/plain": [
       "1.2600000000000002"
      ]
     },
     "execution_count": 38,
     "metadata": {},
     "output_type": "execute_result"
    }
   ],
   "source": [
    "g_x = (5-domain).clip(min=0)\n",
    "expected_value(f_x, g_x)"
   ]
  },
  {
   "cell_type": "markdown",
   "id": "6107a0f7-ff1b-45e9-92d4-6fc355401e63",
   "metadata": {},
   "source": [
    "Compute E[X]"
   ]
  },
  {
   "cell_type": "code",
   "execution_count": 39,
   "id": "47e27ab5-d2c6-4d23-8221-a7cb7b1e1fca",
   "metadata": {},
   "outputs": [
    {
     "name": "stdout",
     "output_type": "stream",
     "text": [
      "5.58\n"
     ]
    }
   ],
   "source": [
    "E_X = np.dot(domain, f_x)\n",
    "print(E_X)"
   ]
  },
  {
   "cell_type": "markdown",
   "id": "a3dd114a-1158-4f6d-87ee-ed2878cfeda9",
   "metadata": {},
   "source": [
    "compute g(E[X]) for all previously used g(x)"
   ]
  },
  {
   "cell_type": "code",
   "execution_count": 40,
   "id": "5d7558c4-1500-4564-b04e-65abe4d4667c",
   "metadata": {},
   "outputs": [
    {
     "name": "stdout",
     "output_type": "stream",
     "text": [
      "g(E[X]):  5.58\n",
      "g(E[X]):  11.16\n",
      "g(E[X]):  0.5800000000000001\n",
      "g(E[X]):  16.16\n",
      "g(E[X]):  31.136400000000002\n",
      "g(E[X]):  0.5800000000000001\n",
      "g(E[X]):  0\n"
     ]
    }
   ],
   "source": [
    "g_x_28 = E_X\n",
    "print(\"g(E[X]): \", g_x_28)\n",
    "g_x_29 = E_X*2\n",
    "print(\"g(E[X]): \", g_x_29)\n",
    "g_x_30 = E_X - 5\n",
    "print(\"g(E[X]): \", g_x_30)\n",
    "g_x_31 = 2*E_X + 5\n",
    "print(\"g(E[X]): \", g_x_31)\n",
    "g_x_32 = E_X**2\n",
    "print(\"g(E[X]): \", g_x_32)\n",
    "g_x_33 = max(E_X-5, 0)\n",
    "print(\"g(E[X]): \", g_x_33)\n",
    "g_x_34 = max(5-E_X, 0)\n",
    "print(\"g(E[X]): \", g_x_34)"
   ]
  },
  {
   "cell_type": "markdown",
   "id": "e63dee17-a175-458f-a059-549b942ad011",
   "metadata": {},
   "source": [
    "g(E[X]) is equal to E[g(x)] for the g(x) functions of step 28-31. The difference with the g(x) function that are not similar is the fact that these are not linear. All the g(x) functions that work are linear functions whereas the ones that do not work are not.  "
   ]
  },
  {
   "cell_type": "markdown",
   "id": "f43d8b40-3b67-4464-9e6b-37d0ef1ea851",
   "metadata": {},
   "source": [
    "## Random"
   ]
  },
  {
   "cell_type": "markdown",
   "id": "f8fb73b4-38cb-4c6c-a519-02a927a78c5f",
   "metadata": {},
   "source": [
    "Create an array with 1000 random integers from 0-20 and an array with 1000 numbers draw from a poisson distribution with mean=10"
   ]
  },
  {
   "cell_type": "code",
   "execution_count": 41,
   "id": "0f6175dc-1279-42ed-9fa4-dfbadbd7ef4b",
   "metadata": {},
   "outputs": [],
   "source": [
    "rvs_randint = randint.rvs(0, 21, size=1000)\n",
    "rvs_poisson = poisson.rvs(10, size=1000)"
   ]
  },
  {
   "cell_type": "markdown",
   "id": "205493b9-d5b8-4be4-88e7-7ddde0508ab3",
   "metadata": {},
   "source": [
    "Define a function that calculates the\n",
    "percentage of generated random numbers that are equal to the value x"
   ]
  },
  {
   "cell_type": "code",
   "execution_count": 42,
   "id": "1df72929-c482-43e6-8ed2-7cafe068d35b",
   "metadata": {},
   "outputs": [],
   "source": [
    "def f_sim_x(x, dist):\n",
    "    return list(dist).count(x)/len(dist)"
   ]
  },
  {
   "cell_type": "markdown",
   "id": "5b0e41b6-7af7-433f-8113-961273c7e664",
   "metadata": {},
   "source": [
    "create and fill dataframes with the f_sim(x) an F_sim(x) for the randomint and poisson distributions"
   ]
  },
  {
   "cell_type": "code",
   "execution_count": 43,
   "id": "28dfa7fb-0361-4319-ae67-78c6b225ed22",
   "metadata": {},
   "outputs": [],
   "source": [
    "x = np.linspace(0,20,21)\n",
    "df4_randint = pd.DataFrame(index=x, columns=[\"f_sim(x)\", \"F_sim(x)\"])\n",
    "df4_poisson = pd.DataFrame(index=x, columns=[\"f_sim(x)\", \"F_sim(x)\"])\n",
    "cum_randint = 0\n",
    "cum_poisson = 0\n",
    "for i in x:\n",
    "    # randint\n",
    "    df4_randint[\"f_sim(x)\"][i] = f_sim_x(i, rvs_randint)\n",
    "    cum_randint += df4_randint[\"f_sim(x)\"][i]\n",
    "    df4_randint[\"F_sim(x)\"][i] = cum_randint\n",
    "    \n",
    "    # poisson\n",
    "    df4_poisson[\"f_sim(x)\"][i] = f_sim_x(i, rvs_poisson)\n",
    "    cum_poisson += df4_poisson[\"f_sim(x)\"][i]\n",
    "    df4_poisson[\"F_sim(x)\"][i] = cum_poisson"
   ]
  },
  {
   "cell_type": "code",
   "execution_count": 44,
   "id": "9b1f187f-6324-401b-812d-c3c6ab2f13d2",
   "metadata": {},
   "outputs": [
    {
     "data": {
      "text/html": [
       "<div>\n",
       "<style scoped>\n",
       "    .dataframe tbody tr th:only-of-type {\n",
       "        vertical-align: middle;\n",
       "    }\n",
       "\n",
       "    .dataframe tbody tr th {\n",
       "        vertical-align: top;\n",
       "    }\n",
       "\n",
       "    .dataframe thead th {\n",
       "        text-align: right;\n",
       "    }\n",
       "</style>\n",
       "<table border=\"1\" class=\"dataframe\">\n",
       "  <thead>\n",
       "    <tr style=\"text-align: right;\">\n",
       "      <th></th>\n",
       "      <th>f_sim(x)</th>\n",
       "      <th>F_sim(x)</th>\n",
       "    </tr>\n",
       "  </thead>\n",
       "  <tbody>\n",
       "    <tr>\n",
       "      <th>0.0</th>\n",
       "      <td>0.0</td>\n",
       "      <td>0.0</td>\n",
       "    </tr>\n",
       "    <tr>\n",
       "      <th>1.0</th>\n",
       "      <td>0.0</td>\n",
       "      <td>0.0</td>\n",
       "    </tr>\n",
       "    <tr>\n",
       "      <th>2.0</th>\n",
       "      <td>0.001</td>\n",
       "      <td>0.001</td>\n",
       "    </tr>\n",
       "    <tr>\n",
       "      <th>3.0</th>\n",
       "      <td>0.007</td>\n",
       "      <td>0.008</td>\n",
       "    </tr>\n",
       "    <tr>\n",
       "      <th>4.0</th>\n",
       "      <td>0.016</td>\n",
       "      <td>0.024</td>\n",
       "    </tr>\n",
       "    <tr>\n",
       "      <th>5.0</th>\n",
       "      <td>0.041</td>\n",
       "      <td>0.065</td>\n",
       "    </tr>\n",
       "    <tr>\n",
       "      <th>6.0</th>\n",
       "      <td>0.061</td>\n",
       "      <td>0.126</td>\n",
       "    </tr>\n",
       "    <tr>\n",
       "      <th>7.0</th>\n",
       "      <td>0.093</td>\n",
       "      <td>0.219</td>\n",
       "    </tr>\n",
       "    <tr>\n",
       "      <th>8.0</th>\n",
       "      <td>0.116</td>\n",
       "      <td>0.335</td>\n",
       "    </tr>\n",
       "    <tr>\n",
       "      <th>9.0</th>\n",
       "      <td>0.125</td>\n",
       "      <td>0.46</td>\n",
       "    </tr>\n",
       "    <tr>\n",
       "      <th>10.0</th>\n",
       "      <td>0.14</td>\n",
       "      <td>0.6</td>\n",
       "    </tr>\n",
       "    <tr>\n",
       "      <th>11.0</th>\n",
       "      <td>0.12</td>\n",
       "      <td>0.72</td>\n",
       "    </tr>\n",
       "    <tr>\n",
       "      <th>12.0</th>\n",
       "      <td>0.085</td>\n",
       "      <td>0.805</td>\n",
       "    </tr>\n",
       "    <tr>\n",
       "      <th>13.0</th>\n",
       "      <td>0.066</td>\n",
       "      <td>0.871</td>\n",
       "    </tr>\n",
       "    <tr>\n",
       "      <th>14.0</th>\n",
       "      <td>0.056</td>\n",
       "      <td>0.927</td>\n",
       "    </tr>\n",
       "    <tr>\n",
       "      <th>15.0</th>\n",
       "      <td>0.034</td>\n",
       "      <td>0.961</td>\n",
       "    </tr>\n",
       "    <tr>\n",
       "      <th>16.0</th>\n",
       "      <td>0.018</td>\n",
       "      <td>0.979</td>\n",
       "    </tr>\n",
       "    <tr>\n",
       "      <th>17.0</th>\n",
       "      <td>0.012</td>\n",
       "      <td>0.991</td>\n",
       "    </tr>\n",
       "    <tr>\n",
       "      <th>18.0</th>\n",
       "      <td>0.005</td>\n",
       "      <td>0.996</td>\n",
       "    </tr>\n",
       "    <tr>\n",
       "      <th>19.0</th>\n",
       "      <td>0.002</td>\n",
       "      <td>0.998</td>\n",
       "    </tr>\n",
       "    <tr>\n",
       "      <th>20.0</th>\n",
       "      <td>0.001</td>\n",
       "      <td>0.999</td>\n",
       "    </tr>\n",
       "  </tbody>\n",
       "</table>\n",
       "</div>"
      ],
      "text/plain": [
       "     f_sim(x) F_sim(x)\n",
       "0.0       0.0      0.0\n",
       "1.0       0.0      0.0\n",
       "2.0     0.001    0.001\n",
       "3.0     0.007    0.008\n",
       "4.0     0.016    0.024\n",
       "5.0     0.041    0.065\n",
       "6.0     0.061    0.126\n",
       "7.0     0.093    0.219\n",
       "8.0     0.116    0.335\n",
       "9.0     0.125     0.46\n",
       "10.0     0.14      0.6\n",
       "11.0     0.12     0.72\n",
       "12.0    0.085    0.805\n",
       "13.0    0.066    0.871\n",
       "14.0    0.056    0.927\n",
       "15.0    0.034    0.961\n",
       "16.0    0.018    0.979\n",
       "17.0    0.012    0.991\n",
       "18.0    0.005    0.996\n",
       "19.0    0.002    0.998\n",
       "20.0    0.001    0.999"
      ]
     },
     "execution_count": 44,
     "metadata": {},
     "output_type": "execute_result"
    }
   ],
   "source": [
    "df4_poisson"
   ]
  },
  {
   "cell_type": "markdown",
   "id": "e250a2fd-2060-41d4-a593-cccfc6b88719",
   "metadata": {},
   "source": [
    "plot the results"
   ]
  },
  {
   "cell_type": "code",
   "execution_count": 45,
   "id": "71391f36-40cf-41d3-9ae9-95084b94606b",
   "metadata": {},
   "outputs": [
    {
     "data": {
      "text/plain": [
       "Text(0, 0.5, 'relative frequencies')"
      ]
     },
     "execution_count": 45,
     "metadata": {},
     "output_type": "execute_result"
    },
    {
     "data": {
      "image/png": "[encoded data removed]",
      "text/plain": [
       "<Figure size 432x288 with 1 Axes>"
      ]
     },
     "metadata": {
      "needs_background": "light"
     },
     "output_type": "display_data"
    }
   ],
   "source": [
    "plt.plot(x, df4_randint[\"f_sim(x)\"], label=\"f_sim(x)\")\n",
    "plt.plot(x, df4_randint[\"F_sim(x)\"], label=\"F_sim(x)\")\n",
    "plt.legend()\n",
    "plt.xlabel(\"x\")\n",
    "plt.ylabel(\"relative frequencies\")"
   ]
  },
  {
   "cell_type": "markdown",
   "id": "3404b9cf-bb11-4402-9bac-8a81f8405d0a",
   "metadata": {},
   "source": [
    "plt.plot(x, df4_poisson[\"f_sim(x)\"], label=\"f_sim(x)\")\n",
    "plt.plot(x, df4_poisson[\"F_sim(x)\"], label=\"F_sim(x)\")\n",
    "plt.legend()\n",
    "plt.xlabel(\"x\")\n",
    "plt.ylabel(\"relative frequencies\")"
   ]
  },
  {
   "cell_type": "markdown",
   "id": "bb8dc654-fb78-4e6d-95fc-280c9479447b",
   "metadata": {},
   "source": [
    "The graphs from step 23-24 and step 41 are very similar and by the law of large numbers the graphs from step 41 will converge to the graphs of step 23-24 when the size of the drawn random numbers increases."
   ]
  },
  {
   "cell_type": "markdown",
   "id": "26378209-b99c-4e01-9d80-2e4981bfdd09",
   "metadata": {},
   "source": [
    "## Simulation"
   ]
  },
  {
   "cell_type": "markdown",
   "id": "ec15a3d7-ded8-4c57-8fcd-769fc04fa135",
   "metadata": {},
   "source": [
    "create array with zeros"
   ]
  },
  {
   "cell_type": "code",
   "execution_count": 46,
   "id": "93d6b48f-8a10-4c26-b803-564e2766e2d3",
   "metadata": {},
   "outputs": [],
   "source": [
    "q = np.zeros(10001)\n",
    "D = np.zeros(10001)\n",
    "I = np.zeros(10001)"
   ]
  },
  {
   "cell_type": "markdown",
   "id": "da5a5e98-c44c-4462-bae7-0ff02e3cb0fc",
   "metadata": {},
   "source": [
    "fill in the demand array using a poisson distribution with mean=10"
   ]
  },
  {
   "cell_type": "code",
   "execution_count": 47,
   "id": "2c7de727-8453-4495-aa1d-db40e3d5cbd0",
   "metadata": {},
   "outputs": [],
   "source": [
    "D[1:] = poisson.rvs(10, size=10000)"
   ]
  },
  {
   "cell_type": "markdown",
   "id": "e915bf0c-b8c1-4653-8d0f-35a22883310b",
   "metadata": {},
   "source": [
    "define parameters s,Q and the function for the (s,Q) policy"
   ]
  },
  {
   "cell_type": "code",
   "execution_count": 48,
   "id": "ed502716-9daa-4ccb-939a-4a5ff48d6105",
   "metadata": {},
   "outputs": [],
   "source": [
    "s = 5\n",
    "Q = 15\n",
    "def s_Q_policy(s, Q, I):\n",
    "    if I < s:\n",
    "        return Q\n",
    "    else:\n",
    "        return 0"
   ]
  },
  {
   "cell_type": "markdown",
   "id": "11211d6c-f10d-49bb-bca5-d62ed3eefc8c",
   "metadata": {},
   "source": [
    "create an empty dataframe"
   ]
  },
  {
   "cell_type": "code",
   "execution_count": 49,
   "id": "c34776a1-30f6-4301-b1ce-f70ce0e8d762",
   "metadata": {},
   "outputs": [],
   "source": [
    "data = {\"q\": q, \"D\": D, \"I\": I}\n",
    "df5 = pd.DataFrame(index=np.linspace(0,10000,10001), data=data)"
   ]
  },
  {
   "cell_type": "markdown",
   "id": "4e4c56d1-2883-4247-857a-468724991bc8",
   "metadata": {},
   "source": [
    "fill the dataframe using the function s_Q_policy and inventory_n"
   ]
  },
  {
   "cell_type": "code",
   "execution_count": 50,
   "id": "9fe6fe5b-12bb-4320-a5c1-d579a94eab2a",
   "metadata": {},
   "outputs": [],
   "source": [
    "for i in np.linspace(1,10000,10000):\n",
    "    I = df5[\"I\"][i-1]\n",
    "    df5[\"q\"][i] = s_Q_policy(s, Q, I)\n",
    "    df5[\"I\"][i] = inventory_n(I, df5[\"q\"][i], df5[\"D\"][i])"
   ]
  },
  {
   "cell_type": "code",
   "execution_count": 51,
   "id": "25228da9-9723-47c3-9ba2-c1a5168e448f",
   "metadata": {},
   "outputs": [
    {
     "data": {
      "text/html": [
       "<div>\n",
       "<style scoped>\n",
       "    .dataframe tbody tr th:only-of-type {\n",
       "        vertical-align: middle;\n",
       "    }\n",
       "\n",
       "    .dataframe tbody tr th {\n",
       "        vertical-align: top;\n",
       "    }\n",
       "\n",
       "    .dataframe thead th {\n",
       "        text-align: right;\n",
       "    }\n",
       "</style>\n",
       "<table border=\"1\" class=\"dataframe\">\n",
       "  <thead>\n",
       "    <tr style=\"text-align: right;\">\n",
       "      <th></th>\n",
       "      <th>q</th>\n",
       "      <th>D</th>\n",
       "      <th>I</th>\n",
       "    </tr>\n",
       "  </thead>\n",
       "  <tbody>\n",
       "    <tr>\n",
       "      <th>0.0</th>\n",
       "      <td>0.0</td>\n",
       "      <td>0.0</td>\n",
       "      <td>0.0</td>\n",
       "    </tr>\n",
       "    <tr>\n",
       "      <th>1.0</th>\n",
       "      <td>15.0</td>\n",
       "      <td>9.0</td>\n",
       "      <td>6.0</td>\n",
       "    </tr>\n",
       "    <tr>\n",
       "      <th>2.0</th>\n",
       "      <td>0.0</td>\n",
       "      <td>9.0</td>\n",
       "      <td>-3.0</td>\n",
       "    </tr>\n",
       "    <tr>\n",
       "      <th>3.0</th>\n",
       "      <td>15.0</td>\n",
       "      <td>10.0</td>\n",
       "      <td>2.0</td>\n",
       "    </tr>\n",
       "    <tr>\n",
       "      <th>4.0</th>\n",
       "      <td>15.0</td>\n",
       "      <td>11.0</td>\n",
       "      <td>6.0</td>\n",
       "    </tr>\n",
       "    <tr>\n",
       "      <th>5.0</th>\n",
       "      <td>0.0</td>\n",
       "      <td>9.0</td>\n",
       "      <td>-3.0</td>\n",
       "    </tr>\n",
       "    <tr>\n",
       "      <th>6.0</th>\n",
       "      <td>15.0</td>\n",
       "      <td>8.0</td>\n",
       "      <td>4.0</td>\n",
       "    </tr>\n",
       "    <tr>\n",
       "      <th>7.0</th>\n",
       "      <td>15.0</td>\n",
       "      <td>8.0</td>\n",
       "      <td>11.0</td>\n",
       "    </tr>\n",
       "    <tr>\n",
       "      <th>8.0</th>\n",
       "      <td>0.0</td>\n",
       "      <td>10.0</td>\n",
       "      <td>1.0</td>\n",
       "    </tr>\n",
       "    <tr>\n",
       "      <th>9.0</th>\n",
       "      <td>15.0</td>\n",
       "      <td>7.0</td>\n",
       "      <td>9.0</td>\n",
       "    </tr>\n",
       "  </tbody>\n",
       "</table>\n",
       "</div>"
      ],
      "text/plain": [
       "        q     D     I\n",
       "0.0   0.0   0.0   0.0\n",
       "1.0  15.0   9.0   6.0\n",
       "2.0   0.0   9.0  -3.0\n",
       "3.0  15.0  10.0   2.0\n",
       "4.0  15.0  11.0   6.0\n",
       "5.0   0.0   9.0  -3.0\n",
       "6.0  15.0   8.0   4.0\n",
       "7.0  15.0   8.0  11.0\n",
       "8.0   0.0  10.0   1.0\n",
       "9.0  15.0   7.0   9.0"
      ]
     },
     "execution_count": 51,
     "metadata": {},
     "output_type": "execute_result"
    }
   ],
   "source": [
    "df5.head(10)"
   ]
  },
  {
   "cell_type": "markdown",
   "id": "12f9c9c6-6d3e-47c6-b511-bc2397e9c36c",
   "metadata": {},
   "source": [
    "Define functions to calculate the performance indicators"
   ]
  },
  {
   "cell_type": "code",
   "execution_count": 52,
   "id": "d7d92b74-319e-4173-9107-3d83a5a9b00a",
   "metadata": {},
   "outputs": [],
   "source": [
    "def average_on_hand_inv(I):\n",
    "    return I[I>0].sum()/len(I)\n",
    "\n",
    "def average_backlog(I):\n",
    "    return abs(I[I<0].sum()/len(I))\n",
    "\n",
    "def fraction_orders_places(q):\n",
    "    return q[q>0].count()/len(q)"
   ]
  },
  {
   "cell_type": "code",
   "execution_count": 53,
   "id": "e3dfab7d-1dc4-4c2e-bdb9-71566919c844",
   "metadata": {},
   "outputs": [
    {
     "name": "stdout",
     "output_type": "stream",
     "text": [
      "average inventory at hand:  3.2275772422757725\n",
      "average backlog:  1.42995700429957\n",
      "fraction periods where orders are placed:  0.668933106689331\n"
     ]
    }
   ],
   "source": [
    "print(\"average inventory at hand: \", average_on_hand_inv(df5[\"I\"]))\n",
    "print(\"average backlog: \", average_backlog(df5[\"I\"]))\n",
    "print(\"fraction periods where orders are placed: \", fraction_orders_places(df5[\"q\"]))"
   ]
  },
  {
   "cell_type": "markdown",
   "id": "97962601-dee4-47b8-8e25-8863794cfe2a",
   "metadata": {},
   "source": [
    "Examine how changing the values of s and Q affects performance indicators by increasing Q and decreasing s "
   ]
  },
  {
   "cell_type": "markdown",
   "id": "71123aa4-70a3-49a5-9ac8-4430c5116188",
   "metadata": {},
   "source": [
    "##### increasing Q:"
   ]
  },
  {
   "cell_type": "code",
   "execution_count": 54,
   "id": "aeaeb351-02e6-4a1c-bf82-e0a3aadef2fa",
   "metadata": {},
   "outputs": [],
   "source": [
    "Q = 30"
   ]
  },
  {
   "cell_type": "code",
   "execution_count": 55,
   "id": "29bde60a-065b-4f70-9516-e9fa6fb815b9",
   "metadata": {},
   "outputs": [],
   "source": [
    "for i in np.linspace(1,10000,10000):\n",
    "    I = df5[\"I\"][i-1]\n",
    "    df5[\"q\"][i] = s_Q_policy(s, Q, I)\n",
    "    df5[\"I\"][i] = inventory_n(I, df5[\"q\"][i], df5[\"D\"][i])"
   ]
  },
  {
   "cell_type": "code",
   "execution_count": 56,
   "id": "82ce1a36-35bb-4d73-962f-265ab477696d",
   "metadata": {},
   "outputs": [
    {
     "name": "stdout",
     "output_type": "stream",
     "text": [
      "average inventory at hand:  10.12978702129787\n",
      "average backlog:  0.6724327567243276\n",
      "fraction periods where orders are placed:  0.3344665533446655\n"
     ]
    }
   ],
   "source": [
    "print(\"average inventory at hand: \", average_on_hand_inv(df5[\"I\"]))\n",
    "print(\"average backlog: \", average_backlog(df5[\"I\"]))\n",
    "print(\"fraction periods where orders are placed: \", fraction_orders_places(df5[\"q\"]))"
   ]
  },
  {
   "cell_type": "markdown",
   "id": "1ad5f574-c834-4344-8320-4a7e6d4cf943",
   "metadata": {},
   "source": [
    "higher Q with same s results in higher average inventory on hand, average lower backorders and less orders(although of larger size)"
   ]
  },
  {
   "cell_type": "markdown",
   "id": "cc34dcac-5f99-44f2-900a-0aaedbb0ae8f",
   "metadata": {},
   "source": [
    "##### decreasing s"
   ]
  },
  {
   "cell_type": "code",
   "execution_count": 57,
   "id": "f5b43057-b68c-4975-9ff1-418569f37549",
   "metadata": {},
   "outputs": [
    {
     "name": "stdout",
     "output_type": "stream",
     "text": [
      "average inventory at hand:  2.127787221277872\n",
      "average backlog:  2.3144685531446854\n",
      "fraction periods where orders are placed:  0.668933106689331\n"
     ]
    }
   ],
   "source": [
    "Q = 15\n",
    "s = 3\n",
    "\n",
    "for i in np.linspace(1,10000,10000):\n",
    "    I = df5[\"I\"][i-1]\n",
    "    df5[\"q\"][i] = s_Q_policy(s, Q, I)\n",
    "    df5[\"I\"][i] = inventory_n(I, df5[\"q\"][i], df5[\"D\"][i])\n",
    "\n",
    "print(\"average inventory at hand: \", average_on_hand_inv(df5[\"I\"]))\n",
    "print(\"average backlog: \", average_backlog(df5[\"I\"]))\n",
    "print(\"fraction periods where orders are placed: \", fraction_orders_places(df5[\"q\"]))"
   ]
  },
  {
   "cell_type": "markdown",
   "id": "f6bf1be1-ed98-464e-bd39-8b95a232babf",
   "metadata": {},
   "source": [
    "compared to the base case, a lower s results in lower average inventory, higher average backorders but similar fraction of orders placed per period "
   ]
  }
 ],
 "metadata": {
  "kernelspec": {
   "display_name": "Python 3 (ipykernel)",
   "language": "python",
   "name": "python3"
  },
  "language_info": {
   "codemirror_mode": {
    "name": "ipython",
    "version": 3
   },
   "file_extension": ".py",
   "mimetype": "text/x-python",
   "name": "python",
   "nbconvert_exporter": "python",
   "pygments_lexer": "ipython3",
   "version": "3.9.7"
  }
 },
 "nbformat": 4,
 "nbformat_minor": 5
}
